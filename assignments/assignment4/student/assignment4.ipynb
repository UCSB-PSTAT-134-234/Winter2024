{
 "cells": [
  {
   "cell_type": "code",
   "execution_count": null,
   "id": "b1ec2bbf",
   "metadata": {
    "deletable": false,
    "editable": false
   },
   "outputs": [],
   "source": [
    "# Initialize Otter\n",
    "import otter\n",
    "grader = otter.Notebook(\"assignment4.ipynb\")"
   ]
  },
  {
   "cell_type": "markdown",
   "id": "66037437-b64b-4eb4-a661-c14bc87b527e",
   "metadata": {},
   "source": [
    "# Assignment 4: Accessing JSON Data with APIs\n",
    "\n",
    "Many data providers publish application programming interface (API) for users to access their data. In this assignment we will use the [Addresses in the City of Los Angeles](https://data.lacity.org/City-Infrastructure-Service-Requests/Addresses-in-the-City-of-Los-Angeles/4ca8-mxuh/about_data) API."
   ]
  },
  {
   "cell_type": "markdown",
   "id": "1b191db0",
   "metadata": {
    "deletable": false,
    "editable": false
   },
   "source": [
    "## API Key\n",
    "\n",
    "Many API providers want to know who is accessing their data. The way applications access services programmatically is using API authentication credentials. The terminology for the credentials may be different: e.g., app tokens, API keys, etc.\n",
    "\n",
    "The [LA addresses API documentation](https://dev.socrata.com/foundry/data.lacity.org/4ca8-mxuh) has the link to create an API key ID/Secret pair. Click on \"Sign up for an app token!\" to be forwarded to a link where you can sign up and [Create New App Token](https://data.lacity.org/profile/edit/developer_settings). _Make sure to get App Token and not  API Key._\n",
    "\n",
    "Save your App Token. _Warning: app tokens and API keys are like passwords. In practice, app tokens and API key strings should be kept private, and you don't want to publish them publicly: e.g. on a public GitHub repository. However, in this assignment, we will check if your token works._\n",
    "\n",
    "To check if your token works, construct a query. Consider the following query that has a placeholder app token, `##DEMO_KEY##`:\n",
    "```\n",
    "https://data.lacity.org/resource/4ca8-mxuh.json?$$app_token=##DEMO_KEY##&hse_id=527545'.format(app_token)\n",
    "```\n",
    "To use your key instead of the temporary key, replace `##DEMO_KEY##` with the _your app token_ and paste it into a browser window. You should get an output similar to the following:\n",
    "```\n",
    "[{\"hse_id\":\"527545\",\"pin\":\"117B193    67\",\"pind\":\"117B193-67\",\"hse_nbr\":\"1556\",\"hse_dir_cd\":\"W\",\"str_nm\":\"37TH\",\"str_sfx_cd\":\"ST\",\"zip_cd\":\"90018\",\"lat\":\"34.020859999999999\",\"lon\":\"-118.30483\",\"x_coord_nbr\":\"6469295.9020999996\",\"y_coord_nbr\":\"1830113.4445\",\"asgn_stts_ind\":\"A\",\"eng_dist\":\"C\",\"cncl_dist\":\"8\"}]\n",
    "```\n",
    "\n",
    "Below, we will do this programmatically. Assign `app_token` to hold your app token, modify `url_str` to use your `app_token`. The subsequent line will make a query with `url_str` and assign the returned result to `check_key` variable."
   ]
  },
  {
   "cell_type": "code",
   "execution_count": null,
   "id": "b8ff650d",
   "metadata": {
    "tags": []
   },
   "outputs": [],
   "source": [
    "app_token = ...\n",
    "\n",
    "url_str = 'https://data.lacity.org/resource/4ca8-mxuh.json?\\$\\$app_token={}'.format(...)\n",
    "\n",
    "# `curl` is used to retrieve from URL in `url_str` with an additional query parameter.\n",
    "check_key = !curl -s \"{url_str}&hse_id=527545\" \n",
    "check_key"
   ]
  },
  {
   "cell_type": "code",
   "execution_count": null,
   "id": "43a5b4b2",
   "metadata": {
    "deletable": false,
    "editable": false
   },
   "outputs": [],
   "source": [
    "grader.check(\"my_api_key\")"
   ]
  },
  {
   "cell_type": "markdown",
   "id": "33d2a7ce",
   "metadata": {
    "deletable": false,
    "editable": false
   },
   "source": [
    "<!-- BEGIN QUESTION -->\n",
    "\n",
    "## Endpoints\n",
    "\n"
   ]
  },
  {
   "cell_type": "markdown",
   "id": "31d625ab",
   "metadata": {
    "deletable": false,
    "editable": false
   },
   "source": [
    "API endpoints are the points of interaction or communication between a client and a server in an API (Application Programming Interface). They are the routes or URLs where requests can be made and data can be accessed or manipulated.\n",
    "\n",
    "Each endpoint corresponds to a specific function in the API. For example, in a RESTful API, you might have the following endpoints:\n",
    "\n",
    "- `GET /public/collection/v1/search`: returns a listing of all Object IDs for objects that contain the search query within the object’s data.\n",
    "  ```\n",
    "  https://collectionapi.metmuseum.org/public/collection/v1/search?q=bouquet+of+sunflowers\n",
    "  https://collectionapi.metmuseum.org/public/collection/v1/search?q=%22bouquet+of+sunflowers%22\n",
    "  ```\n",
    "- `GET /public/collection/v1/objects/[objectID]`: returns a record for an object, containing all open access data about that object, including its image (if the image is available under Open Access).\n",
    "  ```\n",
    "  https://collectionapi.metmuseum.org/public/collection/v1/objects/437112\n",
    "  ```\n",
    "\n",
    "Each of these endpoints represents a different function of the API, and they each correspond to a different URL where a client can make a request. The type of request (GET, POST, PUT, DELETE, etc.) and the data included in the request will determine what action is taken by the API.\n",
    "\n",
    "In fact the two above [endpoints](https://metmuseum.github.io#endpoints) are from the [The Metropolitan Museum of Art Collection](https://www.metmuseum.org/art/collection/search) APIs. There are many other endpoints on the page. Met's APIs do not require an app token to work."
   ]
  },
  {
   "cell_type": "markdown",
   "id": "b1ad7d1c",
   "metadata": {
    "deletable": false,
    "editable": false
   },
   "source": [
    "## Download `jq` for use\n",
    "\n",
    "`jq` is a lightweight and flexible command-line JSON processor. It is like `sed` for JSON data - you can use it to slice and filter and map and transform structured data with the same ease that `sed`, `awk`, `grep` and friends let you play with text.\n",
    "\n",
    "Applications such as `jq` are often a single executable file. `jq` can be downloaded from the project's [GitHub page](https://github.com/jqlang/jq/releases/tag/jq-1.7). Specifically, you will download the binary `jq-linux-amd64`. The downloaded file can be set as \"executable\" (`x`) for the user (`u`) with the `chmod` command.\n",
    "\n",
    "Command line applications are \"installed\" by placing the executable file in a searchable location as defined in `PATH` environment variable. \n",
    "\n",
    "The `PATH` environment variable is a system variable that operating systems use to locate executables from the command line or Terminal window. `PATH` is essentially a list of directory paths, and when you type a command to run, the system looks for it in the directories specified by `PATH`.\n",
    "\n",
    "Fill-in the code below to download `jq` and place it in a searchable directory, `/opt/conda/bin`. In other words, replace the following placeholders and remove the comment character `#`.\n",
    "1. `[SEARCHABLE_DIRECTORY]`\n",
    "1. `[JQ_DOWNLOAD_LINK]`"
   ]
  },
  {
   "cell_type": "code",
   "execution_count": null,
   "id": "b71a75ce-f690-475c-a15c-5522d89926ed",
   "metadata": {
    "tags": []
   },
   "outputs": [],
   "source": [
    "%%bash\n",
    "# wget -q [JQ_DOWNLOAD_LINK] -O [SEARCHABLE_DIRECTORY]/jq\n",
    "# chmod u+x [SEARCHABLE_DIRECTORY]/jq\n",
    "echo \"Location of installed jq: $(which jq)\"\n",
    "echo \"Installed jq version: $(jq --version)\""
   ]
  },
  {
   "cell_type": "markdown",
   "id": "df23423e",
   "metadata": {
    "deletable": false,
    "editable": false
   },
   "source": [
    "<!-- END QUESTION -->\n",
    "\n",
    "## Quickstart with `jq`\n",
    "\n",
    "We will use the following data to illustrate key features of `jq`. Running the following cell will create a file `made_up_file.json`."
   ]
  },
  {
   "cell_type": "code",
   "execution_count": null,
   "id": "68965ce4",
   "metadata": {},
   "outputs": [],
   "source": [
    "%%writefile made_up_file.json\n",
    "{\n",
    "  \"company\": \"Big Data Inc.\",\n",
    "  \"employees\": [\n",
    "    {\n",
    "      \"firstName\": \"John\",\n",
    "      \"lastName\": \"Doe\",\n",
    "      \"skills\": [\n",
    "        \"Python\",\n",
    "        \"Java\",\n",
    "        \"C++\"\n",
    "      ]\n",
    "    },\n",
    "    {\n",
    "      \"firstName\": \"Anna\",\n",
    "      \"lastName\": \"Smith\",\n",
    "      \"skills\": [\n",
    "        \"JavaScript\",\n",
    "        \"HTML\",\n",
    "        \"CSS\"\n",
    "      ]\n",
    "    },\n",
    "    {\n",
    "      \"firstName\": \"Peter\",\n",
    "      \"lastName\": \"Jones\",\n",
    "      \"skills\": [\n",
    "        \"Python\",\n",
    "        \"R\",\n",
    "        \"SQL\"\n",
    "      ]\n",
    "    }\n",
    "  ]\n",
    "}"
   ]
  },
  {
   "cell_type": "markdown",
   "id": "f73763ee",
   "metadata": {},
   "source": [
    "Run and understand the following commands to learn what each does:"
   ]
  },
  {
   "cell_type": "code",
   "execution_count": null,
   "id": "aecfb4e2",
   "metadata": {},
   "outputs": [],
   "source": [
    "!jq '.company' made_up_file.json # extract company attribute"
   ]
  },
  {
   "cell_type": "code",
   "execution_count": null,
   "id": "8bfc2f4a",
   "metadata": {},
   "outputs": [],
   "source": [
    "!jq '.employees[1]' made_up_file.json # extract second employee"
   ]
  },
  {
   "cell_type": "code",
   "execution_count": null,
   "id": "88a1ed66",
   "metadata": {},
   "outputs": [],
   "source": [
    "!jq '.employees[].skills[0]' made_up_file.json # extract first skill of each employee"
   ]
  },
  {
   "cell_type": "code",
   "execution_count": null,
   "id": "7b3b02f5",
   "metadata": {},
   "outputs": [],
   "source": [
    "!jq '.employees[] | .firstName' made_up_file.json # using pipe makes some things easier"
   ]
  },
  {
   "cell_type": "code",
   "execution_count": null,
   "id": "9f368ec5",
   "metadata": {},
   "outputs": [],
   "source": [
    "!jq '.employees[] | { first_name: .firstName, last_name: .lastName }' made_up_file.json # create new object from existing attributes"
   ]
  },
  {
   "cell_type": "code",
   "execution_count": null,
   "id": "e8ab41cb",
   "metadata": {},
   "outputs": [],
   "source": [
    "!jq '.employees[] | {name: (.firstName + \" \" + .lastName)}' made_up_file.json # create new object from combining existing attributes"
   ]
  },
  {
   "cell_type": "markdown",
   "id": "26a31f1e",
   "metadata": {},
   "source": [
    "## Download using search and object APIs\n",
    " \n",
    "Study the [Met's search API](https://metmuseum.github.io#search). For example, searching for \"Vincent Van Gogh\" can be accomplished by pasting this url: `https://collectionapi.metmuseum.org/public/collection/v1/search?q=\"vincent van gogh\"`. _In the returned page, you will see `https://collectionapi.metmuseum.org/public/collection/v1/search?q=%22vincent%20van%20gogh%22`, which is replaced quotes and spaces into [urlencoded characters](https://en.wikipedia.org/wiki/Percent-encoding#Character_data)._\n",
    "\n",
    "Study the [Met's object API](https://metmuseum.github.io#object). To find the details of an object with ID, `436533`, paste this url: `https://collectionapi.metmuseum.org/public/collection/v1/objects/436533` "
   ]
  },
  {
   "cell_type": "markdown",
   "id": "5392b167",
   "metadata": {
    "deletable": false,
    "editable": false
   },
   "source": [
    "### The `search` endpoint\n",
    "\n",
    "[Construct a search query](https://metmuseum.github.io/#search) to search for items with the query string \"van gogh\" (with quotes), has images, and located in Europe. \n",
    "\n",
    "- Save the URL for this query in a variable named `met_van_gogh`.\n",
    "- Save returned result (in a list) in Python variable named `met_van_gogh_result`.\n",
    "- Parse the string with `json` module by loading the string with `loads()` method, then,\n",
    "- Extract the `objectID` element and save as variable `met_van_gogh_items`.\n"
   ]
  },
  {
   "cell_type": "code",
   "execution_count": null,
   "id": "bdb737b9",
   "metadata": {
    "tags": []
   },
   "outputs": [],
   "source": [
    "met_van_gogh = 'https://collectionapi.metmuseum.org/public/collection/v1/search?...'\n",
    "\n",
    "met_van_gogh_result = !curl -s ...\n",
    "\n",
    "import json\n",
    "met_van_gogh_items = json.loads(met_van_gogh_result[...])[...]\n",
    "met_van_gogh_items.sort()\n",
    "\n",
    "item_urls = {}\n",
    "for item in met_van_gogh_items:\n",
    "\n",
    "  item_url = 'https://collectionapi.metmuseum.org/public/collection/v1/objects/{}'.format(item)\n",
    "  item_urls[item] = item_url"
   ]
  },
  {
   "cell_type": "code",
   "execution_count": null,
   "id": "076e2e48",
   "metadata": {
    "deletable": false,
    "editable": false
   },
   "outputs": [],
   "source": [
    "grader.check(\"search_api\")"
   ]
  },
  {
   "cell_type": "markdown",
   "id": "58809ece",
   "metadata": {
    "deletable": false,
    "editable": false
   },
   "source": [
    "<!-- BEGIN QUESTION -->\n",
    "\n",
    "Download from the 10 urls created in the previous question. Save them to files as shown in the code."
   ]
  },
  {
   "cell_type": "code",
   "execution_count": null,
   "id": "94a7ecf3",
   "metadata": {
    "tags": []
   },
   "outputs": [],
   "source": [
    "for item_id, item_url in item_urls.items():\n",
    "  print('processing:', item_url)\n",
    "  !curl -s '...' > item_{item_id}.json # the query URL goes here"
   ]
  },
  {
   "cell_type": "markdown",
   "id": "0c8a5cb1",
   "metadata": {
    "deletable": false,
    "editable": false
   },
   "source": [
    "<!-- END QUESTION -->\n",
    "\n",
    "<!-- BEGIN QUESTION -->\n",
    "\n",
    "Run and inspect the following shell code and explain what `xargs` does. What does `wc` tell you about each file?"
   ]
  },
  {
   "cell_type": "markdown",
   "id": "83a5c669",
   "metadata": {},
   "source": [
    "_Type your answer here, replacing this text._"
   ]
  },
  {
   "cell_type": "code",
   "execution_count": null,
   "id": "886b9bc3",
   "metadata": {
    "tags": []
   },
   "outputs": [],
   "source": [
    "!ls -1 item_*.json | xargs wc"
   ]
  },
  {
   "cell_type": "markdown",
   "id": "7d55bb5c",
   "metadata": {
    "deletable": false,
    "editable": false
   },
   "source": [
    "<!-- END QUESTION -->\n",
    "\n",
    "<!-- BEGIN QUESTION -->\n",
    "\n",
    "Complete the following code to collect all `primaryImage` into one single file `all_images.json`"
   ]
  },
  {
   "cell_type": "code",
   "execution_count": null,
   "id": "8cd5c493",
   "metadata": {
    "tags": []
   },
   "outputs": [],
   "source": [
    "!ls -1 item_*.json | xargs cat | jq -r '...' > wikidata_urls.txt # the jq command goes here\n",
    "!cat wikidata_urls.txt"
   ]
  },
  {
   "cell_type": "markdown",
   "id": "aa605d4b",
   "metadata": {
    "deletable": false,
    "editable": false
   },
   "source": [
    "<!-- END QUESTION -->\n",
    "\n",
    "Also complete Datacamp's [Intermediate Importing Data in Python](https://app.datacamp.com/learn/courses/intermediate-importing-data-in-python)."
   ]
  },
  {
   "cell_type": "markdown",
   "id": "54dcd54c",
   "metadata": {
    "deletable": false,
    "editable": false
   },
   "source": [
    "---\n",
    "\n",
    "To double-check your work, the cell below will rerun all of the autograder tests."
   ]
  },
  {
   "cell_type": "code",
   "execution_count": null,
   "id": "435ccc41",
   "metadata": {
    "deletable": false,
    "editable": false
   },
   "outputs": [],
   "source": [
    "grader.check_all()"
   ]
  },
  {
   "cell_type": "markdown",
   "id": "3dd8742d",
   "metadata": {
    "deletable": false,
    "editable": false
   },
   "source": [
    "## Submission\n",
    "\n",
    "Make sure you have run all cells in your notebook in order before running the cell below, so that all images/graphs appear in the output. The cell below will generate a zip file for you to submit. **Please save before exporting!**\n",
    "\n",
    "Download the zip file and submit to Gradescope."
   ]
  },
  {
   "cell_type": "code",
   "execution_count": null,
   "id": "909fc559",
   "metadata": {
    "deletable": false,
    "editable": false
   },
   "outputs": [],
   "source": [
    "# Save your notebook first, then run this cell to export your submission.\n",
    "grader.export(run_tests=True)"
   ]
  },
  {
   "cell_type": "markdown",
   "id": "238fc110",
   "metadata": {},
   "source": [
    " "
   ]
  }
 ],
 "metadata": {
  "kernelspec": {
   "display_name": "Python 3 (ipykernel)",
   "language": "python",
   "name": "python3"
  },
  "language_info": {
   "codemirror_mode": {
    "name": "ipython",
    "version": 3
   },
   "file_extension": ".py",
   "mimetype": "text/x-python",
   "name": "python",
   "nbconvert_exporter": "python",
   "pygments_lexer": "ipython3",
   "version": "3.11.5"
  },
  "otter": {
   "OK_FORMAT": true,
   "tests": {
    "my_api_key": {
     "name": "my_api_key",
     "points": 5,
     "suites": [
      {
       "cases": [
        {
         "code": ">>> (len(app_token), str(type(app_token)), str(type(check_key)), str(type(check_key[0])))\n(25, \"<class 'str'>\", \"<class 'IPython.utils.text.SList'>\", \"<class 'str'>\")",
         "hidden": false,
         "locked": false,
         "points": 3
        },
        {
         "code": ">>> ('6469295.9020999996' in check_key[0]) & ('Invalid app_token specified' not in check_key[0])\nTrue",
         "hidden": false,
         "locked": false,
         "points": 2
        }
       ],
       "scored": true,
       "setup": "",
       "teardown": "",
       "type": "doctest"
      }
     ]
    },
    "search_api": {
     "name": "search_api",
     "points": 4,
     "suites": [
      {
       "cases": [
        {
         "code": ">>> len(met_van_gogh_items)\n13",
         "hidden": false,
         "locked": false
        },
        {
         "code": ">>> sum(met_van_gogh_items)\n5678772",
         "hidden": false,
         "locked": false
        }
       ],
       "scored": true,
       "setup": "",
       "teardown": "",
       "type": "doctest"
      }
     ]
    }
   }
  }
 },
 "nbformat": 4,
 "nbformat_minor": 5
}

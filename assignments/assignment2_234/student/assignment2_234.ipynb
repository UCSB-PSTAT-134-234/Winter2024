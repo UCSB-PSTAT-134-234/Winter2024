{
 "cells": [
  {
   "cell_type": "code",
   "execution_count": null,
   "metadata": {
    "deletable": false,
    "editable": false
   },
   "outputs": [],
   "source": [
    "# Initialize Otter\n",
    "import otter\n",
    "grader = otter.Notebook(\"assignment2_234.ipynb\")"
   ]
  },
  {
   "cell_type": "markdown",
   "metadata": {},
   "source": [
    "# Assignment 2: Forest Fires\n",
    "**PSTAT 234 (Winter 2024)  \n",
    "Due Date: 02/11**\n",
    "\n",
    "## Collaboration Policy\n",
    "\n",
    "While you may talk with others about the homework, we ask that you **write your solutions individually**. If you do discuss the assignments with others please **include their names** at the top of your notebook.\n",
    "\n",
    "**Collaborators**: *list collaborators here*"
   ]
  },
  {
   "cell_type": "markdown",
   "metadata": {},
   "source": [
    "# Direction and Goal"
   ]
  },
  {
   "cell_type": "markdown",
   "metadata": {},
   "source": [
    "This assignment will focus on analyzing the data for forest fires in the United States from 1992 through 2020. The data we will be using is from the US Forest Service, which is part of the US Department of Agriculture. "
   ]
  },
  {
   "cell_type": "markdown",
   "metadata": {},
   "source": [
    "## Question 1: Data Processing"
   ]
  },
  {
   "cell_type": "markdown",
   "metadata": {},
   "source": [
    "First we will import the needed modules. We will use `pandas` for our data cleaning and analysis, `seaborn` for our plotting, and `geopandas`. `geopandas` may not be installed so, if not, uncomment the below line and run it."
   ]
  },
  {
   "cell_type": "code",
   "execution_count": null,
   "metadata": {},
   "outputs": [],
   "source": [
    "!pip install geopandas\n",
    "!pip install pyarrow"
   ]
  },
  {
   "cell_type": "code",
   "execution_count": null,
   "metadata": {},
   "outputs": [],
   "source": [
    "import pandas as pd\n",
    "import seaborn as sns\n",
    "import geopandas as geo"
   ]
  },
  {
   "cell_type": "markdown",
   "metadata": {
    "deletable": false,
    "editable": false
   },
   "source": [
    "## Question 1a: Read the data"
   ]
  },
  {
   "cell_type": "markdown",
   "metadata": {
    "deletable": false,
    "editable": false
   },
   "source": [
    "In the `data` folder, there is a file called `fires.parquet.gzip`. The `parquet` format is a very efficient file format for tabular type data that enables compression methods as well. Since the file we will be working with is very large(over 100 MB), it has been stored as a `parquet` binary file, compressed using `gzip`. Fortunately, `pandas` has a convenient method called `read_parquet()` that can read `parquet` files.ince the file is very large, storing it as a csv would entail taking up a lot of space. Each row in the  represents one fire that happened in the United States with info like the fire name, its year, the number of acres burned, etc.  Read the file using `read_parquet()` into a pandas `DataFrame` called `fires`."
   ]
  },
  {
   "cell_type": "code",
   "execution_count": null,
   "metadata": {
    "tags": []
   },
   "outputs": [],
   "source": [
    "\n",
    "\n",
    "# Fill-in ...\n",
    "fires = pd.read_parquet(...) # Replace ... with correct code\n",
    "fires.head()"
   ]
  },
  {
   "cell_type": "code",
   "execution_count": null,
   "metadata": {
    "deletable": false,
    "editable": false
   },
   "outputs": [],
   "source": [
    "grader.check(\"q1a\")"
   ]
  },
  {
   "cell_type": "markdown",
   "metadata": {},
   "source": [
    "A handy method to initially examine the data is to use the `info()` method. It can tell us how many rows our data has, how much memory it takes up, and the names and data types of the columns. Notice the `memory_usage='deep'`. The purpose of this is to tell `pandas` to tell us the **true** memory taken up by the dataframe as by default, `pandas` only tells us how much space is taken up by references to objects contained in the dataframe and not necessarily the objects themselves"
   ]
  },
  {
   "cell_type": "code",
   "execution_count": null,
   "metadata": {},
   "outputs": [],
   "source": [
    "fires.info(memory_usage='deep')"
   ]
  },
  {
   "cell_type": "markdown",
   "metadata": {},
   "source": [
    "Another useful method is `describe()` which gives you summary statistics of all the numeric columns. We see "
   ]
  },
  {
   "cell_type": "code",
   "execution_count": null,
   "metadata": {},
   "outputs": [],
   "source": [
    "fires.describe().T.head(4) # if you remove the "
   ]
  },
  {
   "cell_type": "code",
   "execution_count": null,
   "metadata": {},
   "outputs": [],
   "source": [
    "fires.isna().sum()"
   ]
  },
  {
   "cell_type": "markdown",
   "metadata": {},
   "source": [
    "## Question 1b: Clean the Data"
   ]
  },
  {
   "cell_type": "markdown",
   "metadata": {
    "deletable": false,
    "editable": false
   },
   "source": [
    "### Question 1b (i): LowerCase Column Names"
   ]
  },
  {
   "cell_type": "markdown",
   "metadata": {
    "deletable": false,
    "editable": false
   },
   "source": [
    "Convert all the column names to lowercase."
   ]
  },
  {
   "cell_type": "code",
   "execution_count": null,
   "metadata": {
    "tags": []
   },
   "outputs": [],
   "source": [
    "\n",
    "# Fill-in ___\n",
    "fires.columns = ___.str.____ # Replace ___ with correct code\n",
    "fires.head()"
   ]
  },
  {
   "cell_type": "code",
   "execution_count": null,
   "metadata": {
    "deletable": false,
    "editable": false
   },
   "outputs": [],
   "source": [
    "grader.check(\"q1bi\")"
   ]
  },
  {
   "cell_type": "markdown",
   "metadata": {
    "deletable": false,
    "editable": false
   },
   "source": [
    "### Question 1b (ii): Rename Columns\n",
    "\n",
    "Rename the `fire_size` column to  `acres_burned` and `cont_date` to  `contains_date`"
   ]
  },
  {
   "cell_type": "code",
   "execution_count": null,
   "metadata": {
    "tags": []
   },
   "outputs": [],
   "source": [
    "# Fill-in ...\n",
    "fires = fires.rename(...) # Replace ... with correct code\n",
    "fires.head()"
   ]
  },
  {
   "cell_type": "code",
   "execution_count": null,
   "metadata": {
    "deletable": false,
    "editable": false
   },
   "outputs": [],
   "source": [
    "grader.check(\"q1bii\")"
   ]
  },
  {
   "cell_type": "markdown",
   "metadata": {
    "deletable": false,
    "editable": false
   },
   "source": [
    "### Question 1b (iii): Subset Data\n",
    "\n",
    "In large datasets, it is always wise to consider whether some rows can be removed. We have over 2 million rows and many of these rows are for small fires that are not going to enhance our analysis. Thus, for this analysis, we will focus only on fires that burned at least 10 acres. "
   ]
  },
  {
   "cell_type": "code",
   "execution_count": null,
   "metadata": {
    "tags": []
   },
   "outputs": [],
   "source": [
    "\n",
    "# Fill-in ___\n",
    "fires = fires[...] # Replace ... with correct code(you can also use query method if you wish)\n",
    "fires[fires.duplicated()] # This should return an empty DataFrame"
   ]
  },
  {
   "cell_type": "code",
   "execution_count": null,
   "metadata": {
    "deletable": false,
    "editable": false
   },
   "outputs": [],
   "source": [
    "grader.check(\"q1biii\")"
   ]
  },
  {
   "cell_type": "markdown",
   "metadata": {
    "deletable": false,
    "editable": false
   },
   "source": [
    "### Question 1b (iv): Drop Unnecessary rows\n",
    "\n",
    "The US Forest Service collects the data on forest fires from multiple agencies and this can lead to the problem of  duplicate rows(rows that contain exactly the same information). \n",
    "We can use the `duplicated()` method in `pandas` to check for which rows are exactly the same as shown in the code snippet below. "
   ]
  },
  {
   "cell_type": "code",
   "execution_count": null,
   "metadata": {
    "deletable": false,
    "editable": false
   },
   "outputs": [],
   "source": [
    "fires[fires.duplicated(keep=False)]"
   ]
  },
  {
   "cell_type": "markdown",
   "metadata": {
    "deletable": false,
    "editable": false
   },
   "source": [
    "Write code to drop all duplicate rows, keeping only the first ocurrence of each set of duplicate rows. "
   ]
  },
  {
   "cell_type": "code",
   "execution_count": null,
   "metadata": {
    "tags": []
   },
   "outputs": [],
   "source": [
    "# Fill-in ___\n",
    "fires = fires.___ # Replace ___ with correct code(you can also use query method if you wish)\n",
    "fires[fires.duplicated()] # This should return an empty DataFrame"
   ]
  },
  {
   "cell_type": "code",
   "execution_count": null,
   "metadata": {
    "deletable": false,
    "editable": false
   },
   "outputs": [],
   "source": [
    "grader.check(\"q1biv\")"
   ]
  },
  {
   "cell_type": "markdown",
   "metadata": {
    "deletable": false,
    "editable": false
   },
   "source": [
    "### Question 1b (v): Convert columns to appropriate types\n",
    "\n",
    "It is always beneficial to have each column in a dataframe be the most beneficial and appropriate type. Currently the `contains_date` and `discovery_date` columns are strings(represented as `object` type in `pandas`) but\n",
    "we can convert them to a `datetime` column so we have access to myriad of methods appropriate for time series data. \n",
    "\n",
    "Write code to convert these two columns to `datetime` columns."
   ]
  },
  {
   "cell_type": "code",
   "execution_count": null,
   "metadata": {
    "tags": []
   },
   "outputs": [],
   "source": [
    "# Fill-in ...\n",
    "fires['discovery_date'] = pd.to_datetime(...)\n",
    "fires['contains_date'] = ...\n",
    "fires.info() # You should see datetime64[ns] for the two columns now. The ns tells us it is in nanosecond precision."
   ]
  },
  {
   "cell_type": "code",
   "execution_count": null,
   "metadata": {
    "deletable": false,
    "editable": false
   },
   "outputs": [],
   "source": [
    "grader.check(\"q1bv\")"
   ]
  },
  {
   "cell_type": "markdown",
   "metadata": {
    "deletable": false,
    "editable": false
   },
   "source": [
    "# Question 2: Prepare the Data\n",
    "\n",
    "In order to facilitate our analysis, we will add two new columns. The first column will be the month of the fire(based on `discovery_date`) and the second column will be the number of days the fire burned which\n",
    "is the difference between `contains_date` and `discovery_date`. Name the two new columns `fire_month` and `days_burning` respectively. \n",
    "\n",
    "Write code to accomplish the above. The following page may prove helpful: \n",
    "\n",
    "[Pandas Time Series](https://pandas.pydata.org/docs/user_guide/timeseries.html#time-date-components)\n",
    "\n",
    "[Pandas Timedelta](https://pandas.pydata.org/docs/user_guide/timedeltas.html#attributes)"
   ]
  },
  {
   "cell_type": "code",
   "execution_count": null,
   "metadata": {
    "tags": []
   },
   "outputs": [],
   "source": [
    "# Fill-in ...\n",
    "fires['fire_month']  = ...\n",
    "fires['days_burning'] = ..."
   ]
  },
  {
   "cell_type": "code",
   "execution_count": null,
   "metadata": {
    "deletable": false,
    "editable": false
   },
   "outputs": [],
   "source": [
    "grader.check(\"q2\")"
   ]
  },
  {
   "cell_type": "markdown",
   "metadata": {},
   "source": [
    "## QUESTION 3: Analyzing the Data\n"
   ]
  },
  {
   "cell_type": "markdown",
   "metadata": {
    "deletable": false,
    "editable": false
   },
   "source": [
    "<!-- BEGIN QUESTION -->\n",
    "\n",
    "### Question 3a (i): Maximum Fire Size by Year for California\n",
    "\n",
    "For the state of California(CA), what was the **maximum** fire size for each year? Create a **barplot** with the year on the x-axis and the fire size(`acres_burned`) on the y-axis. Add/Change the titles and labels to what you deem appropriate. "
   ]
  },
  {
   "cell_type": "code",
   "execution_count": null,
   "metadata": {
    "tags": []
   },
   "outputs": [],
   "source": [
    "# Fill-in ___ and ...\n",
    "fires.query(...) \\\n",
    "     .groupby(...) \\\n",
    "     .acres_burned.___\\\n",
    "     .plot(kind=...,title=...,ylabel=...,xlabel=...);\n"
   ]
  },
  {
   "cell_type": "markdown",
   "metadata": {
    "deletable": false,
    "editable": false
   },
   "source": [
    "<!-- END QUESTION -->\n",
    "\n",
    "<!-- BEGIN QUESTION -->\n",
    "\n",
    "### Question 3a (ii): Fire Count By Month in California\n",
    "\n",
    "Create a barplot of the number of fires by month in California. The x-axis, as before, should be the year and the y-axis is the count of fires. Do you notice any patterns? Which months have the most fires? Does this make sense? For these free-resposne questions, type you answer after the **SOLUTION** cell. "
   ]
  },
  {
   "cell_type": "markdown",
   "metadata": {},
   "source": [
    "_Type your answer here, replacing this text._"
   ]
  },
  {
   "cell_type": "code",
   "execution_count": null,
   "metadata": {
    "tags": []
   },
   "outputs": [],
   "source": [
    "\n",
    "# Fill-in ___ and ...\n",
    "fires.query(...) \\\n",
    "     .groupby(...) \\\n",
    "     .___\\\n",
    "     .plot(kind=...,title=...,ylabel=...,xlabel=...);"
   ]
  },
  {
   "cell_type": "markdown",
   "metadata": {
    "deletable": false,
    "editable": false
   },
   "source": [
    "<!-- END QUESTION -->\n",
    "\n",
    "### Question 3b (i): Ranking states by total acres burned\n",
    "\n",
    "For each state, calculate the total amount of acres burned and rank each state by that amount. The state with the most acres burned overall should have rank 1 and so on.\n",
    "Name the dataframe `fires_states` and it should have the state abbreviation be the index and the two columns should be the total acres burned for each state and the rank of each state. The names of these two columns\n",
    "should be `acres_burned` and `state_rank` respectively. Sort `fires_states` in ascending order by `state_rank`.\n",
    "\n",
    "HINT: The `rank()` method may come in handy."
   ]
  },
  {
   "cell_type": "code",
   "execution_count": null,
   "metadata": {
    "tags": []
   },
   "outputs": [],
   "source": [
    "\n",
    "\n",
    "# Fill-in ___ and ...\n",
    "fires_states = fires.groupby(...).acres_burned.agg(...) \n",
    "\n",
    "# Rank each state in descending order(state with most acres burned should be rank 1)\n",
    "\n",
    "fires_states['state_rank] = ...\n",
    "\n",
    "# SORT in ASCENDING ORDR BY state_rank\n",
    "\n",
    "fires_states = ...\n",
    "\n"
   ]
  },
  {
   "cell_type": "code",
   "execution_count": null,
   "metadata": {
    "deletable": false,
    "editable": false
   },
   "outputs": [],
   "source": [
    "grader.check(\"3bi\")"
   ]
  },
  {
   "cell_type": "markdown",
   "metadata": {
    "deletable": false,
    "editable": false
   },
   "source": [
    "<!-- BEGIN QUESTION -->\n",
    "\n",
    "### QUESTION 3b (ii)\n",
    "\n",
    "Using the `fires_states' from the previous question, for the top 10 ranking states, create a barplot with the state on the x-axis and the total acres burned on the y-axis. Add\n",
    "appropriate titles and labels. "
   ]
  },
  {
   "cell_type": "code",
   "execution_count": null,
   "metadata": {
    "tags": []
   },
   "outputs": [],
   "source": [
    "\n",
    "# Fill-in ...\n",
    "fires_states[...].plot(y=...,kind=...,legend=False,title=...,xlabel=...,ylabel=...);"
   ]
  },
  {
   "cell_type": "markdown",
   "metadata": {
    "deletable": false,
    "editable": false
   },
   "source": [
    "<!-- END QUESTION -->\n",
    "\n",
    "### Question 3c (i): Preparing a DataFrame to total acres burned by year within each state\n",
    "\n",
    "We have already seen the sum of acres burned overall for each state but suppose we want to see how this changes over the years? \n",
    "\n",
    "Create a new `DataFrame` called `fires_states_year` storing the total acres burned by year within each state. The result should be a `DataFrame` with a MultiIndex of `state` and `fire_year` with a sole column representing the total acres burned by year within each state. \n",
    "\n",
    "Join `fires_states_year` to `fires_states` to create a `DataFrame` of three columns and then use `reset_index()` to set the indexes to be columns and filter for only states ranking within the top 4, naming the result `fires_states_top_4`.\n",
    "\n",
    "HINT: Use `join()` to merge/join two `DataFrame`s together. Join automatically joins by common index values."
   ]
  },
  {
   "cell_type": "code",
   "execution_count": null,
   "metadata": {
    "tags": []
   },
   "outputs": [],
   "source": [
    "\n",
    "\n",
    "# Fill-in ... and ____\n",
    "fires_states_year = fires.groupby(...).____\n",
    "\n",
    "\n",
    "fires_states_top_4 = fires_states_year.join(...,lsuffix='_by_year',rsuffix='_by_year').query('...').reset_index() # lsuffix and rsuffix are used here to append strings\n",
    "to the end of common column names in the two dataframes we are joining(acres_burned) in order to differentiate between them. The default is to add an x and a y so we can use\n",
    "this to make it more informative. \n",
    "\n",
    "fires_states_top_4"
   ]
  },
  {
   "cell_type": "code",
   "execution_count": null,
   "metadata": {
    "tags": []
   },
   "outputs": [],
   "source": [
    "fires_states_top_4"
   ]
  },
  {
   "cell_type": "code",
   "execution_count": null,
   "metadata": {
    "deletable": false,
    "editable": false
   },
   "outputs": [],
   "source": [
    "grader.check(\"3ci\")"
   ]
  },
  {
   "cell_type": "markdown",
   "metadata": {
    "deletable": false,
    "editable": false
   },
   "source": [
    "<!-- BEGIN QUESTION -->\n",
    "\n",
    "### Question 3c (ii): Preparing a DataFrame to total acres burned by year within each state\n",
    "\n",
    "Using `fires_states_top_4` and `seaborn`, create four lineplots corresponding to each of the top 4 states showing the change in acres burned over the years. The result should be a plot with 2 rows and 2 columns, one lineplot for each state. The line color for each state/plot should be different. "
   ]
  },
  {
   "cell_type": "code",
   "execution_count": null,
   "metadata": {
    "tags": []
   },
   "outputs": [],
   "source": [
    "\n",
    "# Fill-in ... and ____\n",
    "g = sns.relplot(data=...,=...,x=...,y=...,hue=...,col=...,col_wrap=...,legend=False);\n",
    "g.fig.suptitle('Total Acres Burned By Year in the Top 4 States',y=1.025); # Super Title For Entire Plot"
   ]
  },
  {
   "cell_type": "markdown",
   "metadata": {
    "deletable": false,
    "editable": false
   },
   "source": [
    "<!-- END QUESTION -->\n",
    "\n",
    "## Question 4: Using GeoPandas to plot fires on maps"
   ]
  },
  {
   "cell_type": "markdown",
   "metadata": {},
   "source": [
    "Now that we have created some nice plots, it would be nice if we could view the locations of the fires on maps of states so we can get a visual \n",
    "understanding of where they tend to occur and reaffirm our analyses from above. We will be using `GeoPandas` which you can think of `pandas` but extended to work with geospatial data. \n",
    "The data we will be working with that stores the map information for the United States is located in the `Maps` subfolder as shape files. These are special files\n",
    "formats for storing geographic information. We will first go through a demonstration of this to see it in action. You will notice there are other files as well that are needed for the rendering of the plots. "
   ]
  },
  {
   "cell_type": "markdown",
   "metadata": {},
   "source": [
    "\n",
    "First, lets load the map of the USA and get it displayed. We load the shape file `states.shp` located inside the `Maps` subfolder."
   ]
  },
  {
   "cell_type": "code",
   "execution_count": null,
   "metadata": {},
   "outputs": [],
   "source": [
    "usa = geo.read_file('Maps/states.shp')\n",
    "usa.head()"
   ]
  },
  {
   "cell_type": "markdown",
   "metadata": {},
   "source": [
    "We see a familiar looking `DataFrame` style output and that is because the core data structure in `geopandas` is the `GeoDataFrame`, an augmented `DataFrame`. The `geometry` column is the bread-and-butter that stores the locations of the points in terms of longitude and latitude. We can infer that the above is storing the points on the boundaries of the states for each state."
   ]
  },
  {
   "cell_type": "markdown",
   "metadata": {},
   "source": [
    "To plot the map associated with it, we simply just call the `plot()` function. There are options to change the colors of the edges and fill as you will explore in the next question"
   ]
  },
  {
   "cell_type": "code",
   "execution_count": null,
   "metadata": {},
   "outputs": [],
   "source": [
    "usa.plot()"
   ]
  },
  {
   "cell_type": "markdown",
   "metadata": {
    "deletable": false,
    "editable": false
   },
   "source": [
    "<!-- BEGIN QUESTION -->\n",
    "\n",
    "# Question 4a  Get and plot a map of California\n",
    "\n",
    "\n",
    "Filter  `usa` for the state of California and plot the corresponding map. Set the fill color(part inside boundary of state) to be `white` and the edgecolor to be `black`"
   ]
  },
  {
   "cell_type": "code",
   "execution_count": null,
   "metadata": {
    "tags": []
   },
   "outputs": [],
   "source": [
    "# Fill-in ...\n",
    "..."
   ]
  },
  {
   "cell_type": "markdown",
   "metadata": {
    "deletable": false,
    "editable": false
   },
   "source": [
    "<!-- END QUESTION -->\n",
    "\n",
    "# Question 4b: Create a GeoDataFrame of the California Fires in the year 2015. \n",
    "\n",
    "Lets focus solely on 2020 forest fires in Calfifornia and create a new `GeoDataFrame`. First filter `fires` for 2020 forest fires in Calfornia and then use `geo.GeoDataFrame()` to create the `GeoDataFrame`. Save it in a variable called `fires_CA_2020_locations`.\n",
    "\n",
    "HINT:\n",
    "[GeoDataFrame](https://geopandas.org/en/stable/gallery/create_geopandas_from_pandas.html)"
   ]
  },
  {
   "cell_type": "code",
   "execution_count": null,
   "metadata": {
    "tags": []
   },
   "outputs": [],
   "source": [
    "\n",
    "# Fill-in ... and \n",
    "ca_2020_fires = fires.query('...')\n",
    "fires_CA_2020 = geo.GeoDataFrame(...)\n",
    "fires_ca_2020_locations.head()"
   ]
  },
  {
   "cell_type": "code",
   "execution_count": null,
   "metadata": {
    "deletable": false,
    "editable": false
   },
   "outputs": [],
   "source": [
    "grader.check(\"4b\")"
   ]
  },
  {
   "cell_type": "markdown",
   "metadata": {
    "deletable": false,
    "editable": false
   },
   "source": [
    "<!-- BEGIN QUESTION -->\n",
    "\n",
    "# Question 4c: Use Seaborn to Plot Fires on California map\n",
    "\n",
    "Plot 2020 fires in California that **burned more than 500 acres** onto the California map using `seaborn`. Vary the color of the fires by how many acres they burned. In other words, fires with mores acres burned should be \n",
    "darker. Use the `flare` palette for this.\n",
    "\n",
    "Also vary the sizes of the fires by how many acres they burned as well. In other words, fires that burned more acres should appear as bigger points.\n",
    "\n",
    "\n",
    " Have the California map be filled in white with a black edge color. \n",
    "\n",
    "HINT:\n",
    "`sns.scatterplot()`"
   ]
  },
  {
   "cell_type": "code",
   "execution_count": null,
   "metadata": {
    "tags": []
   },
   "outputs": [],
   "source": [
    "ca_map = usa.query(...)\n",
    "ca_map.plot(...)\n",
    "ax = sns.scatterplot(data=...,x=...,y=...,size=...,hue=...,palette='flare')\n",
    "ax.set(title='California fires in 2020 over 500 acres,ylabel='',xlabel='') # Adding a title and removing x and y labels."
   ]
  },
  {
   "cell_type": "markdown",
   "metadata": {
    "deletable": false,
    "editable": false
   },
   "source": [
    "<!-- END QUESTION -->\n",
    "\n",
    "<!-- BEGIN QUESTION -->\n",
    "\n",
    "# Question 4d: Plot the fires in the continental United States.\n",
    "\n",
    "Repeat the above procedure for all fires that burned more than 100,000 acres in the continental USA(ignore Hawaii and Alaska). Like before, fires that burned more acres should appear darker\n",
    "and bigger. Add an appropriate title. Your plot should be a map of the continental USA with points representing locations of fires. "
   ]
  },
  {
   "cell_type": "code",
   "execution_count": null,
   "metadata": {
    "tags": []
   },
   "outputs": [],
   "source": [
    "\n",
    "\n",
    "# Fill-in ...\n",
    "..."
   ]
  },
  {
   "cell_type": "markdown",
   "metadata": {
    "deletable": false,
    "editable": false
   },
   "source": [
    "<!-- END QUESTION -->\n",
    "\n",
    "## Plotting with Folium\n",
    "\n",
    "[Folium](https://python-visualization.github.io/folium/latest/) builds on the data wrangling strengths of the Python ecosystem and the mapping strengths of the leaflet.js library. This allows you to manipulate your data in Geopandas and visualize it on a Leaflet map via Folium.\n",
    "\n",
    "_Note: Due to how Folium map works, the figure will will not show up on Gradescope (both PDF and ipynb files will not show Folium plots). Instead, capture a short screen recording demonstrating your folio visualization here:_ https://ucsb.instructure.com/courses/17058/assignments/211107"
   ]
  },
  {
   "cell_type": "code",
   "execution_count": null,
   "metadata": {},
   "outputs": [],
   "source": [
    "! pip install folium"
   ]
  },
  {
   "cell_type": "code",
   "execution_count": null,
   "metadata": {},
   "outputs": [],
   "source": [
    "import folium"
   ]
  },
  {
   "cell_type": "code",
   "execution_count": null,
   "metadata": {},
   "outputs": [],
   "source": [
    "CA_map = folium.Map(location=[37.7749, -122.42], #middle point of the map, here is San Francisco\n",
    "                        zoom_start=7, #zoom scale, you can change to other number to see the difference\n",
    "                        tiles='openstreetmap')\n",
    "fires_ca_2020_locations_bigger500 = fires_ca_2020_locations.query('acres_burned   > 500')\n",
    "                        \n",
    "for i in fires_ca_2020_locations_bigger500.index:\n",
    "    lat = fires_ca_2020_locations_bigger500.latitude[i]\n",
    "    long = fires_ca_2020_locations_bigger500.longitude[i]\n",
    "    marker = folium.Marker([lat, long],\n",
    "                           popup=\"Acres Burned: {}\".format(fires_ca_2020_locations_bigger500.acres_burned[i]),\n",
    "                           icon=folium.Icon(icon=\"fire\", color = 'red')).add_to(CA_map)\n",
    "    \n",
    "CA_map"
   ]
  },
  {
   "cell_type": "markdown",
   "metadata": {},
   "source": [
    "The plot above is using folium to plot the fire location in california. The dataset is similar to Question 4c but we do not use different point size. Try to click the markers, then you can see the acres burned for each location."
   ]
  },
  {
   "cell_type": "markdown",
   "metadata": {
    "deletable": false,
    "editable": false
   },
   "source": [
    "<!-- BEGIN QUESTION -->\n",
    "\n",
    "# Quesetion 4e1\n",
    "\n",
    "Using `folium` to plot a map of all fires that burned more than 100,000 acres in the continental USA(ignore Hawaii and Alaska), set the `fire_name`,`acres_burned`, `fire_year` and `days_burning` as the popup message. The marker of fires that burned more acres be appear darker(same level break as plot in question 4d)."
   ]
  },
  {
   "cell_type": "code",
   "execution_count": null,
   "metadata": {
    "tags": []
   },
   "outputs": [],
   "source": [
    "\n",
    "\n",
    "# Fill-in ...\n",
    "US_map = folium.Map(location=..., #middle point of the map\n",
    "                        zoom_start=..., #zoom scale, you can change to other number to see the difference\n",
    "                        tiles='openstreetmap')\n",
    "fires_locations_bigger100000 = fires.query(...)\n",
    "\n",
    "\n",
    "for i in fires_locations_bigger100000.index:\n",
    "    if ...:\n",
    "        type_color = \"orange\"\n",
    "    elif ...:\n",
    "        type_color = 'red'\n",
    "    elif ...:        \n",
    "        type_color = \"darkred\"\n",
    "    elif ...:\n",
    "        type_color = \"lightgray\"\n",
    "    elif ...:\n",
    "        type_color = \"gray\"\n",
    "    else:\n",
    "        type_color = \"black\"\n",
    "    lat = ...\n",
    "    long = ..\n",
    "    popmsg = \"Name: \"\\\n",
    "    + ...\\\n",
    "    + \"<br>\"\\\n",
    "    + \"Acres Burned: \"\\\n",
    "    + ...\\\n",
    "    + \"<br>\"\\\n",
    "    + \"Year: \"\\\n",
    "    + ...\\\n",
    "    + \"<br>\"\\\n",
    "    + \"Days Burning: \"\\\n",
    "    + ...\n",
    "    marker = folium.Marker([lat, long],\n",
    "                           popup=...,\n",
    "                           icon=folium.Icon(icon=\"fire\", color = \"%s\" % type_color)).add_to(US_map)\n",
    "US_map"
   ]
  },
  {
   "cell_type": "markdown",
   "metadata": {
    "deletable": false,
    "editable": false
   },
   "source": [
    "<!-- END QUESTION -->\n",
    "\n",
    "<!-- BEGIN QUESTION -->\n",
    "\n",
    "# Quesetion 4e2\n",
    "We can also create a heatmap layer onto folium map for `fires_locations_bigger100000`. To do this, we need to create `heat_data` which is a list of latitude and longitude."
   ]
  },
  {
   "cell_type": "code",
   "execution_count": null,
   "metadata": {
    "scrolled": true,
    "tags": []
   },
   "outputs": [],
   "source": [
    "from folium import plugins\n",
    "\n",
    "\n",
    "#fill in ...\n",
    "US_heatmap = folium.Map(location=..., tiles=\"Cartodb dark_matter\", zoom_start=...)\n",
    "\n",
    "heat_data = ...\n",
    "\n",
    "plugins.HeatMap(heat_data).add_to(US_heatmap)\n",
    "US_heatmap"
   ]
  },
  {
   "cell_type": "markdown",
   "metadata": {
    "deletable": false,
    "editable": false
   },
   "source": [
    "<!-- END QUESTION -->\n",
    "\n",
    "_Intentionally Blank_"
   ]
  },
  {
   "cell_type": "markdown",
   "metadata": {
    "deletable": false,
    "editable": false
   },
   "source": [
    "## Submission\n",
    "\n",
    "Make sure you have run all cells in your notebook in order before running the cell below, so that all images/graphs appear in the output. The cell below will generate a zip file for you to submit. **Please save before exporting!**\n",
    "\n",
    "Download the zip file and submit to Gradescope."
   ]
  },
  {
   "cell_type": "code",
   "execution_count": null,
   "metadata": {
    "deletable": false,
    "editable": false
   },
   "outputs": [],
   "source": [
    "# Save your notebook first, then run this cell to export your submission.\n",
    "grader.export(run_tests=True)"
   ]
  },
  {
   "cell_type": "markdown",
   "metadata": {},
   "source": [
    " "
   ]
  }
 ],
 "metadata": {
  "kernelspec": {
   "display_name": "Python 3 (ipykernel)",
   "language": "python",
   "name": "python3"
  },
  "language_info": {
   "codemirror_mode": {
    "name": "ipython",
    "version": 3
   },
   "file_extension": ".py",
   "mimetype": "text/x-python",
   "name": "python",
   "nbconvert_exporter": "python",
   "pygments_lexer": "ipython3",
   "version": "3.11.5"
  },
  "otter": {
   "OK_FORMAT": true,
   "tests": {
    "3bi": {
     "name": "3bi",
     "points": 5,
     "suites": [
      {
       "cases": [
        {
         "code": ">>> fires_states.shape == (51, 2)\nTrue",
         "hidden": false,
         "locked": false
        },
        {
         "code": ">>> list(fires_states[(fires_states.state_rank <= 5) | (fires_states.state_rank >= 50)].index) == ['AK', 'CA', 'ID', 'NV', 'TX', 'VT', 'RI']\nTrue",
         "hidden": false,
         "locked": false
        }
       ],
       "scored": true,
       "setup": "",
       "teardown": "",
       "type": "doctest"
      }
     ]
    },
    "3ci": {
     "name": "3ci",
     "points": 5,
     "suites": [
      {
       "cases": [
        {
         "code": ">>> (fires_states_top_4.state_rank <= 4).all()\nTrue",
         "hidden": false,
         "locked": false
        },
        {
         "code": ">>> list(fires_states_top_4.state.unique()) == ['AK', 'CA', 'ID', 'NV']\nTrue",
         "hidden": false,
         "locked": false
        },
        {
         "code": ">>> len(fires_states_top_4) == 116\nTrue",
         "hidden": false,
         "locked": false
        },
        {
         "code": ">>> fires_states_top_4.sort_index(axis=1).equals(fires.groupby(['state', 'fire_year']).acres_burned.sum().to_frame().join(fires_states, lsuffix='_by_year', rsuffix='_total').query('state_rank <= 4').reset_index().sort_index(axis=1))\nTrue",
         "hidden": false,
         "locked": false
        }
       ],
       "scored": true,
       "setup": "",
       "teardown": "",
       "type": "doctest"
      }
     ]
    },
    "4b": {
     "name": "4b",
     "points": 5,
     "suites": [
      {
       "cases": [
        {
         "code": ">>> fires_ca_2020_locations.shape == (10198, 9)\nFalse",
         "hidden": false,
         "locked": false
        },
        {
         "code": ">>> 'geometry' in fires_ca_2020_locations.dtypes\nTrue",
         "hidden": false,
         "locked": false
        },
        {
         "code": ">>> 'geometry' in fires_ca_2020_locations.columns\nTrue",
         "hidden": false,
         "locked": false
        },
        {
         "code": ">>> all(fires_ca_2020_locations.fire_year == 2020)\nTrue",
         "hidden": false,
         "locked": false
        },
        {
         "code": ">>> all(fires_ca_2020_locations.state == 'CA')\nTrue",
         "hidden": false,
         "locked": false
        }
       ],
       "scored": true,
       "setup": "",
       "teardown": "",
       "type": "doctest"
      }
     ]
    },
    "q1a": {
     "name": "q1a",
     "points": 2,
     "suites": [
      {
       "cases": [
        {
         "code": ">>> type(fires) is pd.DataFrame\nTrue",
         "hidden": false,
         "locked": false
        },
        {
         "code": ">>> all(fires.columns == ['FIRE_NAME', 'FIRE_SIZE', 'STATE', 'LATITUDE', 'LONGITUDE', 'FIRE_YEAR', 'DISCOVERY_DATE', 'CONT_DATE'])\nTrue",
         "hidden": false,
         "locked": false
        },
        {
         "code": ">>> len(fires) == 2303566\nTrue",
         "hidden": false,
         "locked": false
        }
       ],
       "scored": true,
       "setup": "",
       "teardown": "",
       "type": "doctest"
      }
     ]
    },
    "q1bi": {
     "name": "q1bi",
     "points": 2,
     "suites": [
      {
       "cases": [
        {
         "code": ">>> all(fires.columns == pd.Series(['FIRE_NAME', 'FIRE_SIZE', 'STATE', 'LATITUDE', 'LONGITUDE', 'FIRE_YEAR', 'DISCOVERY_DATE', 'CONT_DATE']).str.lower())\nTrue",
         "hidden": false,
         "locked": false
        }
       ],
       "scored": true,
       "setup": "",
       "teardown": "",
       "type": "doctest"
      }
     ]
    },
    "q1bii": {
     "name": "q1bii",
     "points": 2,
     "suites": [
      {
       "cases": [
        {
         "code": ">>> fires.columns\nIndex(['fire_name', 'acres_burned', 'state', 'latitude', 'longitude',\n       'fire_year', 'discovery_date', 'contain_date'],\n      dtype='object')",
         "hidden": false,
         "locked": false
        },
        {
         "code": ">>> all(fires.columns == pd.Series(['FIRE_NAME', 'ACRES_BURNED', 'STATE', 'LATITUDE', 'LONGITUDE', 'FIRE_YEAR', 'DISCOVERY_DATE', 'contain_date']).str.lower())\nTrue",
         "hidden": false,
         "locked": false
        }
       ],
       "scored": true,
       "setup": "",
       "teardown": "",
       "type": "doctest"
      }
     ]
    },
    "q1biii": {
     "name": "q1biii",
     "points": 2,
     "suites": [
      {
       "cases": [
        {
         "code": ">>> all(fires.acres_burned >= 10)\nTrue",
         "hidden": false,
         "locked": false
        },
        {
         "code": ">>> len(fires) == 322770\nTrue",
         "hidden": false,
         "locked": false
        }
       ],
       "scored": true,
       "setup": "",
       "teardown": "",
       "type": "doctest"
      }
     ]
    },
    "q1biv": {
     "name": "q1biv",
     "points": 2,
     "suites": [
      {
       "cases": [
        {
         "code": ">>> len(fires[fires.duplicated()]) == 0\nTrue",
         "hidden": false,
         "locked": false
        }
       ],
       "scored": true,
       "setup": "",
       "teardown": "",
       "type": "doctest"
      }
     ]
    },
    "q1bv": {
     "name": "q1bv",
     "points": 2,
     "suites": [
      {
       "cases": [
        {
         "code": ">>> fires.select_dtypes(include='datetime').shape == (322719, 2)\nTrue",
         "hidden": false,
         "locked": false
        }
       ],
       "scored": true,
       "setup": "",
       "teardown": "",
       "type": "doctest"
      }
     ]
    },
    "q2": {
     "name": "q2",
     "points": 5,
     "suites": [
      {
       "cases": [
        {
         "code": ">>> list(fires.fire_month.value_counts().sort_index().values) == [19026, 34808, 57554, 40737, 20152, 24415, 32297, 30350, 18324, 16208, 18558, 10290]\nTrue",
         "hidden": false,
         "locked": false
        },
        {
         "code": ">>> fires.days_burning.median() == 0.0\nTrue",
         "hidden": false,
         "locked": false
        },
        {
         "code": ">>> fires.days_burning.mean().round(2)\n2.91",
         "hidden": false,
         "locked": false
        },
        {
         "code": ">>> fires.days_burning.mean().round(2) == 2.91\nTrue",
         "hidden": false,
         "locked": false
        },
        {
         "code": ">>> fires.days_burning.std().round(2) == 12.36\nTrue",
         "hidden": false,
         "locked": false
        }
       ],
       "scored": true,
       "setup": "",
       "teardown": "",
       "type": "doctest"
      }
     ]
    }
   }
  }
 },
 "nbformat": 4,
 "nbformat_minor": 4
}

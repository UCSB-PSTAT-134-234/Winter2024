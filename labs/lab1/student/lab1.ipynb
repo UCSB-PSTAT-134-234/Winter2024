{
 "cells": [
  {
   "cell_type": "code",
   "execution_count": null,
   "id": "793b6b23",
   "metadata": {
    "deletable": false,
    "editable": false
   },
   "outputs": [],
   "source": [
    "# Initialize Otter\n",
    "import otter\n",
    "grader = otter.Notebook(\"lab1.ipynb\")"
   ]
  },
  {
   "cell_type": "markdown",
   "id": "785e57ff-9683-4d2f-81db-0fe1e26cae69",
   "metadata": {
    "nbgrader": {
     "grade": false,
     "grade_id": "running-a-cell",
     "locked": true,
     "schema_version": 2,
     "solution": false
    }
   },
   "source": [
    "---\n",
    "## Part 1: Using Jupyter Notebook\n",
    "\n",
    "### Running Cells and Displaying Output\n",
    "\n",
    "Run the following cell.  If you are unfamiliar with Jupyter Notebooks, skim [this tutorial](http://nbviewer.jupyter.org/github/jupyter/notebook/blob/master/docs/source/examples/Notebook/Notebook%20Basics.ipynb) or selecting **Help --> JupyterLab Reference** in the menu bar above. "
   ]
  },
  {
   "cell_type": "code",
   "execution_count": null,
   "id": "d037c31b-6e6c-47c5-8ed9-3eac282e90f3",
   "metadata": {
    "ExecuteTime": {
     "end_time": "2019-01-18T23:27:51.557447Z",
     "start_time": "2019-01-18T23:27:51.552368Z"
    },
    "nbgrader": {
     "grade": false,
     "grade_id": "hello-world",
     "locked": true,
     "schema_version": 2,
     "solution": false
    },
    "outputsMetadata": {
     "0": {
      "height": 37,
      "type": "stream"
     }
    }
   },
   "outputs": [],
   "source": [
    "print(\"Hello World!\")"
   ]
  },
  {
   "cell_type": "markdown",
   "id": "5936486e-924e-4c1f-8fda-31640016985f",
   "metadata": {},
   "source": [
    "In Jupyter notebooks, all print statements are displayed below the cell. Furthermore, the output of the last line is displayed following the cell upon execution."
   ]
  },
  {
   "cell_type": "code",
   "execution_count": null,
   "id": "f400cf87-7678-47bd-89c1-d4a17c2b726a",
   "metadata": {
    "ExecuteTime": {
     "end_time": "2019-01-18T23:27:51.593806Z",
     "start_time": "2019-01-18T23:27:51.559501Z"
    },
    "outputsMetadata": {
     "0": {
      "height": 37,
      "type": "stream"
     }
    }
   },
   "outputs": [],
   "source": [
    "\"Will this line be displayed?\"\n",
    "\n",
    "print(\"Hello\" + \",\", \"world!\")\n",
    "\n",
    "5 + 3"
   ]
  },
  {
   "cell_type": "markdown",
   "id": "f89fdc29-45d9-445f-9c24-b00551eb1076",
   "metadata": {},
   "source": [
    "### Viewing Documentation\n",
    "\n",
    "To output the documentation for a function, use the `help` function."
   ]
  },
  {
   "cell_type": "code",
   "execution_count": null,
   "id": "3b2930cc-eb4a-4cb7-8573-4406f008b58f",
   "metadata": {
    "ExecuteTime": {
     "end_time": "2019-01-18T23:27:51.618364Z",
     "start_time": "2019-01-18T23:27:51.596329Z"
    },
    "outputsMetadata": {
     "0": {
      "height": 557,
      "type": "stream"
     }
    }
   },
   "outputs": [],
   "source": [
    "help(print)"
   ]
  },
  {
   "cell_type": "markdown",
   "id": "65ba07f9-cc60-4326-892f-d7139de96f64",
   "metadata": {},
   "source": [
    "You can also use Jupyter to view function documentation inside your notebook. The function must already be defined in the kernel for this to work.\n",
    "\n",
    "Below, click your mouse anywhere on `print()` and use `Shift` + `Tab` to view the function's documentation. "
   ]
  },
  {
   "cell_type": "code",
   "execution_count": null,
   "id": "04e1f588-b6a9-4273-9a24-fb1192e34457",
   "metadata": {
    "ExecuteTime": {
     "end_time": "2019-01-18T23:27:51.642969Z",
     "start_time": "2019-01-18T23:27:51.620450Z"
    },
    "outputsMetadata": {
     "0": {
      "height": 37,
      "type": "stream"
     }
    }
   },
   "outputs": [],
   "source": [
    "print('Welcome to PSTAT 234.')"
   ]
  },
  {
   "cell_type": "markdown",
   "id": "cbeb840c-7db2-4c64-831b-bf24915db76b",
   "metadata": {},
   "source": [
    "### Importing Libraries and Magic Commands\n",
    "\n",
    "In PSTAT 234, we will be using common Python libraries to help us process data. By convention, we import all libraries at the very top of the notebook. There are also a set of standard aliases that are used to shorten the library names. Below are some of the libraries that you may encounter throughout the course, along with their respective aliases."
   ]
  },
  {
   "cell_type": "code",
   "execution_count": null,
   "id": "e014236c-18f5-4b6e-81fd-38864d0ccc82",
   "metadata": {
    "ExecuteTime": {
     "end_time": "2019-01-18T23:27:53.746048Z",
     "start_time": "2019-01-18T23:27:51.644613Z"
    }
   },
   "outputs": [],
   "source": [
    "import pandas as pd\n",
    "import numpy as np"
   ]
  },
  {
   "cell_type": "markdown",
   "id": "e8c86d74-2e44-4701-8835-eb2b0fbbee96",
   "metadata": {},
   "source": [
    "Another useful magic command is `%%time`, which times the execution of that cell. You can use this by writing it as the first line of a cell. (Note that `%%` is used for *cell magic commands* that apply to the entire cell, whereas `%` is used for *line magic commands* that only apply to a single line.)"
   ]
  },
  {
   "cell_type": "code",
   "execution_count": null,
   "id": "1a3bba02-9472-4dcb-9ae7-bcdba198c857",
   "metadata": {
    "ExecuteTime": {
     "end_time": "2019-01-18T23:27:53.755085Z",
     "start_time": "2019-01-18T23:27:53.749765Z"
    },
    "outputsMetadata": {
     "0": {
      "height": 77,
      "type": "stream"
     }
    }
   },
   "outputs": [],
   "source": [
    "%%time\n",
    "\n",
    "lst = []\n",
    "for i in range(100):\n",
    "    lst.append(i)"
   ]
  },
  {
   "cell_type": "markdown",
   "id": "da0fc9cd-d5b3-4e58-a426-34b89e516f9e",
   "metadata": {
    "nbgrader": {
     "grade": false,
     "grade_id": "shortcuts",
     "locked": true,
     "schema_version": 2,
     "solution": false
    }
   },
   "source": [
    "### Keyboard Shortcuts\n",
    "\n",
    "Even if you are familiar with Jupyter, we strongly encourage you to become proficient with keyboard shortcuts (this will save you time in the future). To learn about keyboard shortcuts, go to **Help --> Keyboard Shortcuts** in the menu above. \n",
    "\n",
    "Here are a few that we like:\n",
    "1. `Ctrl` + `Return` : *Evaluate the current cell*\n",
    "1. `Shift` + `Return`: *Evaluate the current cell and move to the next*\n",
    "1. `ESC` : *command mode* (may need to press before using any of the commands below)\n",
    "1. `a` : *create a cell above*\n",
    "1. `b` : *create a cell below*\n",
    "1. `dd` : *delete a cell*\n",
    "1. `z` : *undo the last cell operation*\n",
    "1. `m` : *convert a cell to markdown*\n",
    "1. `y` : *convert a cell to code*"
   ]
  },
  {
   "cell_type": "markdown",
   "id": "6758b674-d104-4fcd-adf0-c9e74bdf7c24",
   "metadata": {},
   "source": [
    "### Jupyter Lab\n",
    "\n",
    "JupyterLab is the next generation Jupyter environment that includes more than Jupyter Notebook.\n",
    "![JupyterLab](images/jupyterlab.png)\n",
    "\n",
    "To use Jupyter Lab, visit http://pstat-134-234.lsit.ucsb.edu."
   ]
  },
  {
   "attachments": {},
   "cell_type": "markdown",
   "id": "7ac8d019-6155-43cc-8c20-2b75f593b185",
   "metadata": {
    "toc-hr-collapsed": false
   },
   "source": [
    "---\n",
    "# Part 2: Jupyter notebook labs and assignments\n",
    "\n",
    "**Note: this lab notebook will not count toward your grade, but it is designed to give you a full understanding of how the graders work for this class**\n",
    "\n",
    "In this class, some labs and assignments based on Jupyter notebooks will be graded by Gradescope autograder. The grading is done by \"tests\" some of which are visible and others are hidden.\n",
    "\n",
    "The remainder of this notebook illustrates how the grading works, and, during the process, explain various components that help you understand and work on your labs and assignments easier."
   ]
  },
  {
   "attachments": {},
   "cell_type": "markdown",
   "id": "5928b2bf-ed6a-4140-a800-a382d10bca4f",
   "metadata": {
    "toc-hr-collapsed": false
   },
   "source": [
    "#### Instructions\n",
    "\n",
    "The software being used is called [**otter grader**](https://otter-grader.readthedocs.io). Here are the basics:\n",
    "\n",
    "* **You must NOT change the notebook file name.**  \n",
    "    Notice the first cell has the name of this notebook `lab1.ipynb`. Changing the name of this Jupyter notebook file will cause problems.\n",
    "\n",
    "* **Each question has a response cell _directly_ below it.**  \n",
    "    This is where you answer the question. If you have extra content in this cell, that's fine.\n",
    "    \n",
    "* **If a question has tests, grading cell follows the response cell.**  \n",
    "    Most response cells are followed by a test cell that runs automated tests to check your work: e.g.  \n",
    "    ```\n",
    "    grader.check(\"q1\");\n",
    "    ```\n",
    "    Test results are meant to give you some useful feedback, but it's your responsibility to answer the question. \n",
    "    \n",
    "* **Keep Question-Response-Grading cell intact**  \n",
    "    Please don't delete questions, response cells, or test cells. You won't get credit for your work if you do.\n",
    "\n",
    "* **Important: test cells don't always confirm that your response is correct.**  \n",
    "    There may be other tests that we run when scoring your notebooks. We **strongly recommend** that you check your solutions yourself rather than just relying on the test cells.\n",
    "    \n",
    "* **Double check your submission**  \n",
    "    Make sure the correct file is submitted\n",
    "    \n",
    "Please refer to this documentation for how you can use it more effectively: https://otter-grader.readthedocs.io/en/latest/otter_check.html"
   ]
  },
  {
   "attachments": {},
   "cell_type": "markdown",
   "id": "d4df2e0b-ff7a-4180-8f2f-fd6d3446c628",
   "metadata": {},
   "source": [
    "## Sample question\n",
    "\n",
    "Suppose the question to be graded is \n",
    "> What is the smallest prime number? Assign it to variable `x`.\n",
    "\n",
    "The correct answer would be `x = 2`.\n",
    "\n",
    "## Tests\n",
    "\n",
    "A test in our Jupyter notebook grading context is a piece of code and the expected result of that code. For the sample question, some examples of tests could be, \n",
    "\n",
    "1. Test code: `isinstance(x, int)`  \n",
    "    Expected result: `True`\n",
    "2. Test code: `0 < x < 100`  \n",
    "    Expected result: `True`\n",
    "3. Test code: `print(x)`  \n",
    "    Expected result: `2`\n",
    "    \n",
    "In your notebook, tests such as these are executed to evaluate your grade. Below, the outputs in your notebook and Gradescope are explained in detail."
   ]
  },
  {
   "attachments": {},
   "cell_type": "markdown",
   "id": "76d38cff-c129-48f8-8a80-1de14e253dd4",
   "metadata": {
    "deletable": false,
    "editable": false
   },
   "source": [
    "## Example Question 1\n",
    "\n",
    "What is the smallest prime number? Assign it to variable `x`.\n",
    "\n",
    "The correct answer is, \n",
    "```python\n",
    "x = 2\n",
    "```\n",
    "\n",
    "Suppose following are the three tests\n",
    "\n",
    "| Test code  | Expected result |\n",
    "| -------    | -------         |\n",
    "| `isinstance(x, int)` | `True`          |\n",
    "| `0 < x < 100` | `True`          |\n",
    "| `print(x)` | `2`          |\n",
    "\n",
    "If the student responds correctly as below, all tests would pass."
   ]
  },
  {
   "cell_type": "code",
   "execution_count": null,
   "id": "7e517439-52cc-48b9-b5bd-b3b1a5bf0f02",
   "metadata": {
    "tags": []
   },
   "outputs": [],
   "source": [
    "x = 2 # student response"
   ]
  },
  {
   "cell_type": "code",
   "execution_count": null,
   "id": "7c0ea71d",
   "metadata": {
    "deletable": false,
    "editable": false
   },
   "outputs": [],
   "source": [
    "grader.check(\"q1\")"
   ]
  },
  {
   "attachments": {},
   "cell_type": "markdown",
   "id": "70b13195-cc34-49b1-8189-2af606a75631",
   "metadata": {
    "deletable": false,
    "editable": false
   },
   "source": [
    "## Example Question 2\n",
    "\n",
    "We will create a similar question, but student will respond differently to this question.\n",
    "\n",
    "What is the smallest prime number? Assign it to variable `y`.\n",
    "\n",
    "The correct answer is, \n",
    "```python\n",
    "y = 2\n",
    "```\n",
    "\n",
    "Suppose following are the three tests\n",
    "\n",
    "| Test code  | Expected result |\n",
    "| -------    | -------         |\n",
    "| `isinstance(y, int)` | `True`          |\n",
    "| `0 < y < 100` | `True`          |\n",
    "| `print(y)` | `2`          |\n",
    "\n",
    "If the response is something like `y=2.3`, some tests can pass, although the response is technically wrong."
   ]
  },
  {
   "cell_type": "code",
   "execution_count": null,
   "id": "d78ed2b2-bf0f-4447-936a-c9bc632c0f16",
   "metadata": {
    "tags": []
   },
   "outputs": [],
   "source": [
    "y = 2.3 # student response"
   ]
  },
  {
   "cell_type": "code",
   "execution_count": null,
   "id": "623e1c8d",
   "metadata": {
    "deletable": false,
    "editable": false
   },
   "outputs": [],
   "source": [
    "grader.check(\"q2\")"
   ]
  },
  {
   "attachments": {},
   "cell_type": "markdown",
   "id": "401e199b-33d4-4a47-ab90-37ecedaf4180",
   "metadata": {
    "deletable": false,
    "editable": false
   },
   "source": [
    "## Example Question 3\n",
    "\n",
    "We will create a yet another similar question, but one of the tests will be hidden from you.\n",
    "\n",
    "What is the smallest prime number? Assign it to variable `z`.\n",
    "\n",
    "The correct answer is, \n",
    "```python\n",
    "z = 2\n",
    "```\n",
    "\n",
    "Suppose following are the three tests\n",
    "\n",
    "| Test code  | Expected result |\n",
    "| -------    | -------         |\n",
    "| `isinstance(z, int)` | `True`          |\n",
    "| `0 < z < 100` | `True`          |\n",
    "| `print(z)` | `2`          |\n",
    "\n",
    "In particular, the third test is hidden from you. If the response is `z=3`, the first two tests would be shown as passing; however, the result of the third test will not be visible when you are working on the notebook."
   ]
  },
  {
   "cell_type": "code",
   "execution_count": null,
   "id": "8fc53cb0-a546-4181-b85a-b78b194da41c",
   "metadata": {
    "tags": []
   },
   "outputs": [],
   "source": [
    "z = 3 # student response"
   ]
  },
  {
   "cell_type": "code",
   "execution_count": null,
   "id": "1939bf6b",
   "metadata": {
    "deletable": false,
    "editable": false
   },
   "outputs": [],
   "source": [
    "grader.check(\"q3\")"
   ]
  },
  {
   "attachments": {},
   "cell_type": "markdown",
   "id": "80b2e7d1-434a-4076-8aff-1a3cc0fa53a7",
   "metadata": {},
   "source": [
    "## More about tests and expected output\n",
    "\n",
    "Except for any hidden tests, each test and the corresponding expected output are a part of the notebook. You can inspect them by opening any notebook as a json: right click on `lab1.ipynb` > \"Open With\" > choose \"JSON\". Then navigate to `root` > `metadata` > `otter` > `tests` > `q3`, for example.\n",
    "\n",
    "You can infer that the total number of points for this question is 3, and there are two visible tests. For each test, the test code and expected result are shown as the dictionary value for key, `'code'`. For instance, the two tests/expected results are,\n",
    "\n",
    "1. `isinstance(z, int)\\nTrue`  \n",
    "    test code: `isinstance(z, int)`  \n",
    "    expected result: `True`\n",
    "2. `0 < z < 100\\nTrue`\n",
    "    test code: `0 < z < 100`  \n",
    "    expected result: `True`\n",
    "\n",
    "**A word of caution**: the tests being correct is a necessary condition but not sufficient condition for the correctness of your code. In other words, you may be passing all the (visible) tests; however, your response could still be incorrect. In [Example Question 3](#example-question-3), the test of  has a hidden test that checks if the value of `print(z)` is `2`.  You will not see any hidden tests while you are working on the assignment; however, the result of the hidden tests are revealed when final grades are released on Gradescope."
   ]
  },
  {
   "attachments": {},
   "cell_type": "markdown",
   "id": "78c6c1af-b5f7-48df-abc9-31895bae89da",
   "metadata": {
    "deletable": false,
    "editable": false
   },
   "source": [
    "<!-- BEGIN QUESTION -->\n",
    "\n",
    "## Example Question 4\n",
    "\n",
    "Here is a question to be graded manually: create a matplotlib visualization of a scatter plot."
   ]
  },
  {
   "cell_type": "code",
   "execution_count": null,
   "id": "4009c478-8642-431c-8296-71623241c63f",
   "metadata": {
    "tags": []
   },
   "outputs": [],
   "source": [
    "%matplotlib inline\n",
    "\n",
    "import matplotlib.pyplot as plt\n",
    "import numpy as np\n",
    "\n",
    "data = {'a': np.arange(50),\n",
    "        'c': np.random.randint(0, 50, 50),\n",
    "        'd': np.random.randn(50)}\n",
    "data['b'] = data['a'] + 10 * np.random.randn(50)\n",
    "data['d'] = np.abs(data['d']) * 100\n",
    "\n",
    "plt.scatter('a', 'b', c='c', s='d', data=data)\n",
    "plt.xlabel('entry a')\n",
    "plt.ylabel('entry b')\n",
    "plt.show()"
   ]
  },
  {
   "cell_type": "markdown",
   "id": "de69031a-33f6-469d-9d20-ecf28c34f3ee",
   "metadata": {
    "deletable": false,
    "editable": false
   },
   "source": [
    "<!-- END QUESTION -->\n",
    "\n",
    "# Part3 Some notes on Text part\n",
    "## Text\n",
    "\n",
    "There are some descriptive questions in labs and homework, you need to change the cell to `Markdown` which is the proper enviroment for text. If you type your descriptive answers in code cells directly, the cell can not run. Try to uncomment the following cell and see what happened."
   ]
  },
  {
   "cell_type": "code",
   "execution_count": null,
   "id": "5e25e120-68e2-4bb8-82a8-0b3797b972b6",
   "metadata": {},
   "outputs": [],
   "source": [
    "#Test text in a code cell"
   ]
  },
  {
   "cell_type": "markdown",
   "id": "7fd9a466-f2e4-4b73-ae8e-da0ffd190607",
   "metadata": {
    "slideshow": {
     "slide_type": "slide"
    }
   },
   "source": [
    "If you type your answer as comments in a code cell, the long sentence will be cut of automatically when you export your submission and it may cause some points deductions."
   ]
  },
  {
   "cell_type": "markdown",
   "id": "c2206b41-a7b3-4742-a1bb-2085ecd3fca0",
   "metadata": {},
   "source": [
    "## LaTeX\n",
    "[LaTeX](https://www.latex-project.org) is a programming enviroment for producing scientific documents. You will need to use it in homework and projects in this course."
   ]
  },
  {
   "cell_type": "markdown",
   "id": "be6f4954-1f63-4fca-9886-758c4f469d96",
   "metadata": {},
   "source": [
    "### Mathematics Inline and Display\n",
    "\n",
    "Enclose LaTeX code in dollar signs `$...$` to display math inline. For example, the code `$\\sum_{i = 1}^n (\\hat y_i - y_i)^2$` renders inline as $\\sum_{i = 1}^n (\\hat y_i - y_i)^2$.\n",
    "\n",
    "Enclose LaTeX code in double dollar signs `$$...$$` to display expressions in a centered paragraph. For example:\n",
    "\n",
    "`$$f'(a) = \\lim_{x \\to a} \\frac{f(x) - f(a)}{x-a}$$`\n",
    "renders as\n",
    "$$f'(a) = \\lim_{x \\to a} \\frac{f(x) - f(a)}{x-a}$$\n",
    "\n",
    "See the [LaTeX WikiBook](https://en.wikibooks.org/wiki/LaTeX) for more information(especially the mathematics section)."
   ]
  },
  {
   "cell_type": "markdown",
   "id": "3f679c09-bc5b-45f2-b4bd-f8be5757e6f9",
   "metadata": {},
   "source": [
    "### Common Symbols\n",
    "Below we give a list of commonly used mathematical symbols.\n",
    "\n",
    "For any other symbols you can think of, they can be found by [Detexify](http://detexify.kirelabs.org/classify.html).\n",
    "\n",
    "| Syntax  | Output |\n",
    "| -------    | -------     |\n",
    "| `x_n` | $x_n$          |\n",
    "| `x^2` | $x^2$          |\n",
    "| `\\infty` | $\\infty$    |\n",
    "| `\\frac{a}{b}`|$\\frac{a}{b}$|\n",
    "| `\\partial` | $\\partial$ |\n",
    "| `\\alpha` | $\\alpha$ |\n",
    "| `\\sum_{n=0}^{\\infty}` | $\\sum_{n=0}^{\\infty}$|\n",
    "| `\\prod_{n=0}^{\\infty}` | $\\prod_{n=0}^{\\infty}$|\n",
    "| `\\int_a^b` | $\\int_a^b$|\n",
    "| `\\mathbb{Z}` | $\\mathbb{Z}$|\n",
    "|`\\dots`| $\\dots$ |\n",
    "|`\\vdots` | $\\vdots$|\n",
    "|`\\ddots`| $\\ddots$|\n",
    "| -------    | -------     |"
   ]
  },
  {
   "cell_type": "markdown",
   "id": "ae660dfe-3d54-4eac-86a7-fea706a8591b",
   "metadata": {},
   "source": [
    "### Matrices and Brackets\n",
    "\n",
    "Create a matrix without brackets:\n",
    "\n",
    "`$$\\begin{matrix} a & b \\\\ c & d \\end{matrix}$$`\n",
    "$$\\begin{matrix} a & b \\\\ c & d \\end{matrix}$$\n",
    "\n",
    "Create a matrix with round brackets:\n",
    "\n",
    "`$$\\begin{pmatrix} a & b \\\\ c & d \\end{pmatrix}$$`\n",
    "$$\\begin{pmatrix} a & b \\\\ c & d \\end{pmatrix}$$\n",
    "\n",
    "Create a matrix with square brackets:\n",
    "\n",
    "`$$\\begin{bmatrix} 1 & 2 & 1 \\\\ 3 & 0 & 1 \\\\ 0 & 2 & 4 \\end{bmatrix}$$`\n",
    "$$\\begin{bmatrix} 1 & 2 & 1 \\\\ 3 & 0 & 1 \\\\ 0 & 2 & 4 \\end{bmatrix}$$\n",
    "\n",
    "Use `\\left` and `\\right` to enclose any expression in brackets:\n",
    "\n",
    "`$$\\left( \\frac{p}{q} \\right)$$`\n",
    "$$\\left( \\frac{p}{q} \\right)$$"
   ]
  },
  {
   "cell_type": "markdown",
   "id": "1b6b77ce-ba6a-4197-b527-b3114df6b219",
   "metadata": {},
   "source": [
    "### Example: Jacobian Matrix\n",
    "\n",
    "The Jacobian matrix of the function $f(x_1, \\ldots, x_n)$ is:\n",
    "\n",
    "`$$\n",
    "\\mathbf{J}\n",
    "=\n",
    "\\frac{d \\mathbf{f}}{d \\mathbf{x}}\n",
    "=\n",
    "\\left[ \\frac{\\partial \\mathbf{f}}{\\partial x_1}\n",
    "\\cdots \\frac{\\partial \\mathbf{f}}{\\partial x_n} \\right]\n",
    "=\n",
    "\\begin{bmatrix}\n",
    "\\frac{\\partial f_1}{\\partial x_1} & \\cdots &\n",
    "\\frac{\\partial f_1}{\\partial x_n} \\\\\n",
    "\\vdots & \\ddots & \\vdots \\\\\n",
    "\\frac{\\partial f_m}{\\partial x_1} & \\cdots &\n",
    "\\frac{\\partial f_m}{\\partial x_n}\n",
    "\\end{bmatrix}\n",
    "$$`\n",
    "$$\n",
    "\\mathbf{J}\n",
    "=\n",
    "\\frac{d \\mathbf{f}}{d \\mathbf{x}}\n",
    "=\n",
    "\\left[ \\frac{\\partial \\mathbf{f}}{\\partial x_1}\n",
    "\\cdots \\frac{\\partial \\mathbf{f}}{\\partial x_n} \\right]\n",
    "=\n",
    "\\begin{bmatrix}\n",
    "\\frac{\\partial f_1}{\\partial x_1} & \\cdots &\n",
    "\\frac{\\partial f_1}{\\partial x_n} \\\\\n",
    "\\vdots & \\ddots & \\vdots \\\\\n",
    "\\frac{\\partial f_m}{\\partial x_1} & \\cdots &\n",
    "\\frac{\\partial f_m}{\\partial x_n}\n",
    "\\end{bmatrix}\n",
    "$$"
   ]
  },
  {
   "cell_type": "markdown",
   "id": "7043ecd2-f0e8-497a-b125-2221aa382a4f",
   "metadata": {},
   "source": [
    "### Displaying equations on separate lines\n",
    "\n",
    "The `align` environment in Latex specifies that you want centered equations, separated from the text. It is called `align` because it allows you to align the equations. You separate lines in the equations with a double backslash (`//`). Insert an ampersand (`&`) in each line at the alignment point. All equations will be aligned at the location of the ampersand symbols (and, of course, the ampersands will not appear in the rendered equations).\n",
    "\n",
    "For a three-vector consisting of $x$, $y$, and $z$ components,\n",
    "\n",
    "`\\begin{align}\n",
    "\\mathbf{a} \\cdot \\mathbf{b} &= \\sum_{i=1}^n a_i b_i \\\\\n",
    "&= a_x b_x + a_y b_y + a_z b_z.\n",
    "\\end{align}`\n",
    "\n",
    "\\begin{align}\n",
    "\\mathbf{a} \\cdot \\mathbf{b} &= \\sum_{i=1}^n a_i b_i \\\\\n",
    "&= a_x b_x + a_y b_y + a_z b_z.\n",
    "\\end{align}"
   ]
  },
  {
   "cell_type": "markdown",
   "id": "b13bce60-453e-4cea-93d2-64f50314b090",
   "metadata": {},
   "source": [
    "We can use `array` enviroment to represent the functions in multiple cases.\n",
    "\n",
    "`$$\n",
    "P(\\sigma) = \\left\\{\n",
    "\\begin{array}{cl}\n",
    "\\sigma^{-1} & \\sigma > 0 \\\\\n",
    "0 & \\sigma \\le 0.\n",
    "\\end{array}\n",
    "\\right.\n",
    "$$`\n",
    "\n",
    "$$\n",
    "P(\\sigma) = \\left\\{\n",
    "\\begin{array}{cl}\n",
    "\\sigma^{-1} & \\sigma > 0 \\\\\n",
    "0 & \\sigma \\le 0.\n",
    "\\end{array}\n",
    "\\right.\n",
    "$$\n",
    "Another way to represent functions with multiple cases is using `cases` enviroment:\n",
    "`$$\n",
    "P(\\sigma)=\n",
    "\\begin{cases}\n",
    "\\sigma^{-1} & \\sigma > 0 \\\\\n",
    "0 & \\sigma \\le 0.\n",
    "\\end{cases}\n",
    "$$`\n",
    "$$\n",
    "P(\\sigma)=\n",
    "\\begin{cases}\n",
    "\\sigma^{-1} & \\sigma > 0 \\\\\n",
    "0 & \\sigma \\le 0.\n",
    "\\end{cases}\n",
    "$$"
   ]
  },
  {
   "cell_type": "markdown",
   "id": "956e63dc-4331-402c-9b74-6d06f90dc6eb",
   "metadata": {},
   "source": [
    "### Write text in formula\n",
    "\n",
    "Sometimes, we need to add some explainations in formula, then we can use `\\text{}` to insert text. For example,\n",
    "`\\begin{align}\n",
    "\\text{good: } &\\int_0^{2\\pi} \\mathrm{d}x \\, \\sin x. \\\\\n",
    "\\text{bad: } &\\int_0^{2\\pi} \\mathrm{d}x \\sin x.\n",
    "\\end{align}`\n",
    "\\begin{align}\n",
    "\\text{good: } &\\int_0^{2\\pi} \\mathrm{d}x \\, \\sin x. \\\\\n",
    "\\text{bad: } &\\int_0^{2\\pi} \\mathrm{d}x \\sin x.\n",
    "\\end{align}"
   ]
  },
  {
   "cell_type": "markdown",
   "id": "855cfdae-a174-45df-a02b-cfb59463e5a0",
   "metadata": {},
   "source": [
    "### Using LaTeX in figures\n",
    "\n",
    "Fortunately, Matplotlib allows use of Latex in axis labels and other text in figures. You simply need to include the dollar signs in your string."
   ]
  },
  {
   "cell_type": "code",
   "execution_count": null,
   "id": "45756abb-8631-48b2-b60b-176781fa52b0",
   "metadata": {},
   "outputs": [],
   "source": [
    "x = np.linspace(0.0, 2.0 * np.pi, 200)\n",
    "y = np.exp(np.sin(x))\n",
    "plt.plot(x, y)\n",
    "plt.xlabel('$x$')\n",
    "plt.ylabel('$\\mathrm{e}^{\\sin x}$')"
   ]
  },
  {
   "attachments": {},
   "cell_type": "markdown",
   "id": "74c3c174-b1f3-45f3-827b-b62a820faef3",
   "metadata": {},
   "source": [
    "## Preparing Gradescope Submission Package\n",
    "\n",
    "The function `grader.export()` compiles a pdf file with your responses to the manually graded questions. When you are ready to create your submission package, follow these steps:\n",
    "\n",
    "1. Go to Kernel > Restart Kernel and Run All Cells...\n",
    "2. Save your notebook\n",
    "3. Again! Go to Kernel > Restart Kernel and Run All Cells...\n",
    "\n",
    "You must open the pdf and make sure all your responses show up correctly."
   ]
  },
  {
   "cell_type": "markdown",
   "id": "d74cb35e",
   "metadata": {
    "deletable": false,
    "editable": false
   },
   "source": [
    "## Submission\n",
    "\n",
    "Make sure you have run all cells in your notebook in order before running the cell below, so that all images/graphs appear in the output. The cell below will generate a zip file for you to submit. **Please save before exporting!**\n",
    "\n",
    "Download the zip file and submit to Gradescope."
   ]
  },
  {
   "cell_type": "code",
   "execution_count": null,
   "id": "1b6544c6",
   "metadata": {
    "deletable": false,
    "editable": false
   },
   "outputs": [],
   "source": [
    "# Save your notebook first, then run this cell to export your submission.\n",
    "grader.export(run_tests=True)"
   ]
  },
  {
   "cell_type": "markdown",
   "id": "543626d9",
   "metadata": {},
   "source": [
    " "
   ]
  }
 ],
 "metadata": {
  "editor": "DataCamp Workspace",
  "kernelspec": {
   "display_name": "Python 3 (ipykernel)",
   "language": "python",
   "name": "python3"
  },
  "language_info": {
   "codemirror_mode": {
    "name": "ipython",
    "version": 3
   },
   "file_extension": ".py",
   "mimetype": "text/x-python",
   "name": "python",
   "nbconvert_exporter": "python",
   "pygments_lexer": "ipython3",
   "version": "3.11.5"
  },
  "otter": {
   "OK_FORMAT": true,
   "tests": {
    "q1": {
     "name": "q1",
     "points": 3,
     "suites": [
      {
       "cases": [
        {
         "code": ">>> isinstance(x, int)\nTrue",
         "hidden": false,
         "locked": false
        },
        {
         "code": ">>> 0 < x < 100\nTrue",
         "hidden": false,
         "locked": false
        },
        {
         "code": ">>> print(x)\n2\n",
         "hidden": false,
         "locked": false
        }
       ],
       "scored": true,
       "setup": "",
       "teardown": "",
       "type": "doctest"
      }
     ]
    },
    "q2": {
     "name": "q2",
     "points": 3,
     "suites": [
      {
       "cases": [
        {
         "code": ">>> isinstance(y, int)\nTrue",
         "hidden": false,
         "locked": false
        },
        {
         "code": ">>> 0 < y < 100\nTrue",
         "hidden": false,
         "locked": false
        },
        {
         "code": ">>> print(y)\n2\n",
         "hidden": false,
         "locked": false
        }
       ],
       "scored": true,
       "setup": "",
       "teardown": "",
       "type": "doctest"
      }
     ]
    },
    "q3": {
     "name": "q3",
     "points": 3,
     "suites": [
      {
       "cases": [
        {
         "code": ">>> isinstance(z, int)\nTrue",
         "hidden": false,
         "locked": false
        },
        {
         "code": ">>> 0 < z < 100\nTrue",
         "hidden": false,
         "locked": false
        }
       ],
       "scored": true,
       "setup": "",
       "teardown": "",
       "type": "doctest"
      }
     ]
    }
   }
  },
  "varInspector": {
   "cols": {
    "lenName": 16,
    "lenType": 16,
    "lenVar": 40
   },
   "kernels_config": {
    "python": {
     "delete_cmd_postfix": "",
     "delete_cmd_prefix": "del ",
     "library": "var_list.py",
     "varRefreshCmd": "print(var_dic_list())"
    },
    "r": {
     "delete_cmd_postfix": ") ",
     "delete_cmd_prefix": "rm(",
     "library": "var_list.r",
     "varRefreshCmd": "cat(var_dic_list()) "
    }
   },
   "types_to_exclude": [
    "module",
    "function",
    "builtin_function_or_method",
    "instance",
    "_Feature"
   ],
   "window_display": false
  },
  "vscode": {
   "interpreter": {
    "hash": "d4d1e4263499bec80672ea0156c357c1ee493ec2b1c70f0acce89fc37c4a6abe"
   }
  }
 },
 "nbformat": 4,
 "nbformat_minor": 5
}
